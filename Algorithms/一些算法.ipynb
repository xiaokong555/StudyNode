{
 "cells": [
  {
   "cell_type": "code",
   "execution_count": 22,
   "metadata": {},
   "outputs": [
    {
     "name": "stdout",
     "output_type": "stream",
     "text": [
      "[63, 76, 66, 84, 89, 18, 85, 48, 55, 1]\n",
      "0 3 5 9\n",
      "0 -1 1 3\n",
      "1 2 4 3\n",
      "1 0 2 2\n",
      "5 8 10 9\n",
      "5 5 7 8\n",
      "7 6 8 8\n",
      "[1, 18, 48, 55, 63, 66, 76, 84, 85, 89]\n"
     ]
    }
   ],
   "source": [
    "import random\n",
    "\n",
    "# 快速排序\n",
    "a = [random.randint(0, 100) for i in range(10)]\n",
    "\n",
    "\n",
    "def quickSort(left: int, right: int):\n",
    "    if left >= right:\n",
    "        return\n",
    "    key = a[left]\n",
    "    l = left\n",
    "    r = right\n",
    "    while l < r:\n",
    "        while l < r and a[r] > key:\n",
    "            r -= 1\n",
    "        while l < r and a[l] < key:\n",
    "            l += 1\n",
    "        if l < r and a[l] == a[r]:\n",
    "            l += 1\n",
    "        else:\n",
    "            temp = a[l]\n",
    "            a[l] = a[r]\n",
    "            a[r] = temp\n",
    "    quickSort(left, l - 1)\n",
    "    quickSort(r + 1, right)\n",
    "\n",
    "\n",
    "print(a)\n",
    "quickSort(0, len(a) - 1)\n",
    "print(a)\n"
   ]
  }
 ],
 "metadata": {
  "kernelspec": {
   "display_name": "Python 3.10.1 64-bit",
   "language": "python",
   "name": "python3"
  },
  "language_info": {
   "codemirror_mode": {
    "name": "ipython",
    "version": 3
   },
   "file_extension": ".py",
   "mimetype": "text/x-python",
   "name": "python",
   "nbconvert_exporter": "python",
   "pygments_lexer": "ipython3",
   "version": "3.10.1"
  },
  "orig_nbformat": 4,
  "vscode": {
   "interpreter": {
    "hash": "bf5149a652bcb9de4dcf13bf24d09102787cca6045dbb529c005d9a924deff5a"
   }
  }
 },
 "nbformat": 4,
 "nbformat_minor": 2
}
